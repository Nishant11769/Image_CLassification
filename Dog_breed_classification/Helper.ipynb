{
 "cells": [
  {
   "cell_type": "markdown",
   "id": "0eb82d89",
   "metadata": {},
   "source": [
    "## 1) Selecting Classes from dataframe"
   ]
  },
  {
   "cell_type": "code",
   "execution_count": null,
   "id": "54d4c679",
   "metadata": {},
   "outputs": [],
   "source": [
    "import pandas as pd\n",
    "import random\n",
    "path_main='path/' #edit path to downloaded folder\n",
    "data=pd.read_csv(path_main+'labels.csv')\n",
    "breed_required=list(set(data['breed']))\n",
    "breed_required=['beagle', 'chihuahua', 'doberman', 'french_bulldog',    #select required breeds default-all\n",
    "                'golden_retriever', 'malamute', 'pug', 'saint_bernard', \n",
    "                'scottish_deerhound', 'tibetan_mastiff']\n",
    "df=data.loc[data['breed'].isin(breed_required)]"
   ]
  },
  {
   "cell_type": "markdown",
   "id": "d32a3f11",
   "metadata": {},
   "source": [
    "## 2) Creating folders suitable for ImageDataGenerator"
   ]
  },
  {
   "cell_type": "code",
   "execution_count": null,
   "id": "a8e5e365",
   "metadata": {},
   "outputs": [],
   "source": [
    "import os\n",
    "old_train=os.path.join(path_main,'train'+'/')\n",
    "print(old_train)\n",
    "new_data_path=os.path.join(path_main,'train_val_new'+'/')\n",
    "print(new_data_path)\n",
    "os.mkdir(new_data_path)\n",
    "train_path=os.path.join(new_data_path,'train'+'/')\n",
    "print(train_path)\n",
    "os.mkdir(train_path)\n",
    "val_path=os.path.join(new_data_path,'val'+'/')\n",
    "print(val_path)\n",
    "os.mkdir(val_path)\n",
    "for breed in breed_required:\n",
    "    directory=os.path.join(train_path,breed+'/')\n",
    "    print(directory)\n",
    "    os.mkdir(directory)\n",
    "    directory=os.path.join(val_path,breed+'/')\n",
    "    print(directory)\n",
    "    os.mkdir(directory)"
   ]
  },
  {
   "cell_type": "markdown",
   "id": "387329c8",
   "metadata": {},
   "source": [
    "## 3) Select random images for validation"
   ]
  },
  {
   "cell_type": "code",
   "execution_count": null,
   "id": "efe792af",
   "metadata": {},
   "outputs": [],
   "source": [
    "val_names=[]\n",
    "for breed in breeds_total:\n",
    "    sub=df.loc[df['breed']==breed]\n",
    "    names=list(sub['id'])\n",
    "    val_names=val_names+random.sample(names,k=6) # 'k' is number of images per class"
   ]
  },
  {
   "cell_type": "markdown",
   "id": "eeb86125",
   "metadata": {},
   "source": [
    "## 4) Copying images to created folder"
   ]
  },
  {
   "cell_type": "code",
   "execution_count": null,
   "id": "13c053f6",
   "metadata": {},
   "outputs": [],
   "source": [
    "from shutil import copyfile\n",
    "names=list(df['id'])\n",
    "breeds=list(df['breed'])\n",
    "\n",
    "for i in range(len(df)):\n",
    "    name=names[i]\n",
    "    breed=breeds[i]\n",
    "    original=os.path.join(old_train,name+'.jpg')\n",
    "    if name in val_names:\n",
    "        current_path=val_path\n",
    "    else:\n",
    "        current_path=train_path\n",
    "    target_breed=os.path.join(current_path,breed+'/')\n",
    "    target=os.path.join(target_breed,name+'.jpg')\n",
    "    copyfile(original, target)"
   ]
  }
 ],
 "metadata": {
  "kernelspec": {
   "display_name": "Python 3",
   "language": "python",
   "name": "python3"
  },
  "language_info": {
   "codemirror_mode": {
    "name": "ipython",
    "version": 3
   },
   "file_extension": ".py",
   "mimetype": "text/x-python",
   "name": "python",
   "nbconvert_exporter": "python",
   "pygments_lexer": "ipython3",
   "version": "3.8.8"
  }
 },
 "nbformat": 4,
 "nbformat_minor": 5
}
